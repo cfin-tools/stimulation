{
 "cells": [
  {
   "cell_type": "code",
   "execution_count": null,
   "metadata": {
    "collapsed": true
   },
   "outputs": [],
   "source": [
    "%matplotlib inline"
   ]
  },
  {
   "cell_type": "markdown",
   "metadata": {},
   "source": [
    "# Verify WAV stimuli for MEG experiment\n",
    "\n",
    "WAV-files used in the MEG should\n",
    "\n",
    "* be sampled at 44.1 kHz\n",
    "* be saved as 16-bit integer precision\n",
    "\n",
    "If this notebook runs without error, that is the case. In addition, the final plot can be inspected to see the largest absolute amplitude of the stimulus set used. Due to mismatches between the input- and output-levels of the various components in the audio-stream:\n",
    "\n",
    " > __the peak amplitude should never exceed 0.5 (-3 dB)__\n",
    " \n",
    " ## File layout\n",
    " \n",
    "Place all the files in a single folder, and set the variable `wavdir` (below) to point to it."
   ]
  },
  {
   "cell_type": "code",
   "execution_count": null,
   "metadata": {
    "collapsed": true
   },
   "outputs": [],
   "source": [
    "import matplotlib.pyplot as plt\n",
    "plt.style.use('ggplot')\n",
    "\n",
    "from verify_wav_stimuli import *\n",
    "Fs = 44100.  # get_wav hard-coded to raise error if not 44.1 kHz"
   ]
  },
  {
   "cell_type": "code",
   "execution_count": null,
   "metadata": {
    "collapsed": true
   },
   "outputs": [],
   "source": [
    "wavdir = '~/tmp/rasha'\n",
    "wavnames = list_wavs_in_dir(wavdir)"
   ]
  },
  {
   "cell_type": "code",
   "execution_count": null,
   "metadata": {
    "collapsed": false
   },
   "outputs": [],
   "source": [
    "wavlist = []\n",
    "for fname in wavnames:\n",
    "    wavlist += [get_wav(fname)]\n",
    "wavarr = wavlist_to_wavarr(wavlist)\n",
    "del wavlist"
   ]
  },
  {
   "cell_type": "markdown",
   "metadata": {},
   "source": [
    "## The absolute peak amplitude"
   ]
  },
  {
   "cell_type": "code",
   "execution_count": null,
   "metadata": {
    "collapsed": false
   },
   "outputs": [],
   "source": [
    "# now data is guaranteed to be 16 bit short\n",
    "maxVal = 2**15 - 1\n",
    "# max_env = np.abs(wavarr).max(axis=0).astype(float) / np.float(maxVal)\n",
    "max_env = 20. * np.log10(np.abs(wavarr).max(axis=0).astype(float) /\n",
    "                         np.float(maxVal))\n",
    "print('The maximum stimulus envelope is {:.1f} dB'.format(max_env.max()))"
   ]
  },
  {
   "cell_type": "markdown",
   "metadata": {},
   "source": [
    "## A plot of the peak range for all stimuli"
   ]
  },
  {
   "cell_type": "code",
   "execution_count": null,
   "metadata": {
    "collapsed": false
   },
   "outputs": [],
   "source": [
    "fig, ax = plt.subplots(1, 1)\n",
    "for ww in range(wavarr.shape[0]):\n",
    "    ax.plot(20. * np.log10(np.abs(wavarr[ww, 0, :]).astype(float) /\n",
    "                           np.float(maxVal)))\n",
    "ax.set_ylim(-9., 0.)\n",
    "_ = ax.set_yticks([0., max_env.max(), -3., -6., -9.])"
   ]
  }
 ],
 "metadata": {
  "hide_input": false,
  "kernelspec": {
   "display_name": "Python 2",
   "language": "python",
   "name": "python2"
  },
  "language_info": {
   "codemirror_mode": {
    "name": "ipython",
    "version": 2
   },
   "file_extension": ".py",
   "mimetype": "text/x-python",
   "name": "python",
   "nbconvert_exporter": "python",
   "pygments_lexer": "ipython2",
   "version": "2.7.11"
  }
 },
 "nbformat": 4,
 "nbformat_minor": 0
}
